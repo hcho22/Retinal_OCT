{
 "cells": [
  {
   "cell_type": "markdown",
   "id": "50e340d4",
   "metadata": {},
   "source": [
    "# Supervised Model"
   ]
  },
  {
   "cell_type": "markdown",
   "id": "0fd429cb",
   "metadata": {},
   "source": [
    "### Import Libraries"
   ]
  },
  {
   "cell_type": "code",
   "execution_count": 1,
   "id": "8541b4dd",
   "metadata": {},
   "outputs": [
    {
     "name": "stderr",
     "output_type": "stream",
     "text": [
      "/opt/conda/lib/python3.7/site-packages/tqdm/auto.py:22: TqdmWarning: IProgress not found. Please update jupyter and ipywidgets. See https://ipywidgets.readthedocs.io/en/stable/user_install.html\n",
      "  from .autonotebook import tqdm as notebook_tqdm\n"
     ]
    }
   ],
   "source": [
    "%load_ext autoreload\n",
    "%autoreload 2\n",
    "%matplotlib inline\n",
    "import matplotlib.pyplot as plt\n",
    "import numpy as np\n",
    "import os\n",
    "\n",
    "import tensorflow as tf\n",
    "\n",
    "import tensorflow_datasets as tfds\n",
    "\n",
    "from tensorflow import keras\n",
    "from tensorflow.keras import layers\n",
    "\n",
    "from keras.models import Sequential\n",
    "from keras.models import Model\n",
    "from keras.callbacks import EarlyStopping\n",
    "from keras import optimizers, losses, activations, models\n",
    "from keras.layers import Convolution2D, Dense, Input, Flatten, Dropout, MaxPooling2D, BatchNormalization, GlobalAveragePooling2D\n",
    "from keras import applications\n",
    "from keras.preprocessing.image import ImageDataGenerator\n",
    "\n",
    "from sklearn.utils import class_weight"
   ]
  },
  {
   "cell_type": "code",
   "execution_count": 2,
   "id": "06975177",
   "metadata": {},
   "outputs": [],
   "source": [
    "train_path = \"../OCT2017 /train/\"\n",
    "test_path = \"../OCT2017 /test/\""
   ]
  },
  {
   "cell_type": "code",
   "execution_count": 3,
   "id": "3a5a8b51",
   "metadata": {},
   "outputs": [],
   "source": [
    "#BATCH_SIZE = 64\n",
    "#IMG_SIZE = (224, 224)#BATCH_SIZE = 64\n",
    "BATCH_SIZE = 16\n",
    "IMG_SIZE = (224, 224)\n",
    "\n",
    "train_generator = ImageDataGenerator(validation_split=0.012)\n",
    "test_generator = ImageDataGenerator() "
   ]
  },
  {
   "cell_type": "code",
   "execution_count": 4,
   "id": "a4c847da",
   "metadata": {},
   "outputs": [
    {
     "name": "stdout",
     "output_type": "stream",
     "text": [
      "Found 82484 images belonging to 4 classes.\n",
      "Found 1000 images belonging to 4 classes.\n",
      "Found 968 images belonging to 4 classes.\n"
     ]
    }
   ],
   "source": [
    "traingen = train_generator.flow_from_directory(train_path,\n",
    "                                               target_size=IMG_SIZE,\n",
    "                                               class_mode='categorical',\n",
    "                                               subset='training',\n",
    "                                               batch_size=BATCH_SIZE,\n",
    "                                               shuffle=True,\n",
    "                                               seed=42)\n",
    "\n",
    "validgen = train_generator.flow_from_directory(train_path,\n",
    "                                               target_size=IMG_SIZE,\n",
    "                                               class_mode='categorical',\n",
    "                                               subset = 'validation',\n",
    "                                               batch_size=BATCH_SIZE,\n",
    "                                               shuffle=True,\n",
    "                                               seed=42)\n",
    "\n",
    "testgen = test_generator.flow_from_directory(test_path,\n",
    "                                             target_size=IMG_SIZE,\n",
    "                                             class_mode='categorical',\n",
    "                                             batch_size=1,\n",
    "                                             shuffle=False,\n",
    "                                             seed=42)"
   ]
  },
  {
   "cell_type": "markdown",
   "id": "8197c5b3",
   "metadata": {},
   "source": [
    "Create base model with ResnetV2 by transfer learning"
   ]
  },
  {
   "cell_type": "code",
   "execution_count": 5,
   "id": "13a08763",
   "metadata": {},
   "outputs": [],
   "source": [
    "def create_basemodel(base_model='resnet', \n",
    "                     input_shape=(224,224,3),\n",
    "                     output_units=4):\n",
    "    preprocess = tf.keras.applications.resnet_v2.preprocess_input\n",
    "    base_model = tf.keras.applications.ResNet50V2(include_top=False, weights='imagenet')\n",
    "    base_model.trainable = False\n",
    "    \n",
    "    inputs = tf.keras.layers.Input(input_shape)\n",
    "    pool    = tf.keras.layers.GlobalAveragePooling2D()\n",
    "    flatten = tf.keras.layers.Flatten()\n",
    "    \n",
    "    softmax   = tf.keras.layers.Dense(output_units, activation='softmax')\n",
    "    \n",
    "    x = inputs\n",
    "    x = preprocess(x)\n",
    "    x = base_model(x)\n",
    "    x = pool(x)\n",
    "    x = flatten(x)\n",
    "    out = softmax(x)\n",
    "    \n",
    "    return tf.keras.Model(inputs=inputs, outputs=out)"
   ]
  },
  {
   "cell_type": "code",
   "execution_count": 6,
   "id": "e29c548c",
   "metadata": {},
   "outputs": [
    {
     "name": "stderr",
     "output_type": "stream",
     "text": [
      "2022-07-13 23:11:04.491575: E tensorflow/stream_executor/cuda/cuda_driver.cc:271] failed call to cuInit: CUDA_ERROR_NO_DEVICE: no CUDA-capable device is detected\n",
      "2022-07-13 23:11:04.491639: I tensorflow/stream_executor/cuda/cuda_diagnostics.cc:156] kernel driver does not appear to be running on this host (fourthbrain-oct): /proc/driver/nvidia/version does not exist\n",
      "2022-07-13 23:11:04.494280: I tensorflow/core/platform/cpu_feature_guard.cc:193] This TensorFlow binary is optimized with oneAPI Deep Neural Network Library (oneDNN) to use the following CPU instructions in performance-critical operations:  AVX2 FMA\n",
      "To enable them in other operations, rebuild TensorFlow with the appropriate compiler flags.\n"
     ]
    }
   ],
   "source": [
    "resnet_base = create_basemodel('resnet')\n",
    "\n",
    "metrics = ['accuracy']\n",
    "callbacks = [tf.keras.callbacks.EarlyStopping(patience=3, monitor='val_loss', )]\n",
    "optimizer = tf.keras.optimizers.Adam(learning_rate=1e-3)\n",
    "resnet_base.compile(optimizer=optimizer, \n",
    "                    loss='categorical_crossentropy', \n",
    "                    metrics=metrics)"
   ]
  },
  {
   "cell_type": "code",
   "execution_count": 7,
   "id": "76232d69",
   "metadata": {},
   "outputs": [
    {
     "name": "stdout",
     "output_type": "stream",
     "text": [
      "Model: \"model\"\n",
      "_________________________________________________________________\n",
      " Layer (type)                Output Shape              Param #   \n",
      "=================================================================\n",
      " input_2 (InputLayer)        [(None, 224, 224, 3)]     0         \n",
      "                                                                 \n",
      " tf.math.truediv (TFOpLambda  (None, 224, 224, 3)      0         \n",
      " )                                                               \n",
      "                                                                 \n",
      " tf.math.subtract (TFOpLambd  (None, 224, 224, 3)      0         \n",
      " a)                                                              \n",
      "                                                                 \n",
      " resnet50v2 (Functional)     (None, None, None, 2048)  23564800  \n",
      "                                                                 \n",
      " global_average_pooling2d (G  (None, 2048)             0         \n",
      " lobalAveragePooling2D)                                          \n",
      "                                                                 \n",
      " flatten (Flatten)           (None, 2048)              0         \n",
      "                                                                 \n",
      " dense (Dense)               (None, 4)                 8196      \n",
      "                                                                 \n",
      "=================================================================\n",
      "Total params: 23,572,996\n",
      "Trainable params: 8,196\n",
      "Non-trainable params: 23,564,800\n",
      "_________________________________________________________________\n"
     ]
    }
   ],
   "source": [
    "resnet_base.summary()"
   ]
  },
  {
   "cell_type": "code",
   "execution_count": 8,
   "id": "5368e6b9",
   "metadata": {},
   "outputs": [
    {
     "name": "stdout",
     "output_type": "stream",
     "text": [
      "Epoch 1/10\n",
      "5156/5156 [==============================] - 2779s 538ms/step - loss: 0.4369 - accuracy: 0.8438 - val_loss: 0.4335 - val_accuracy: 0.8310\n",
      "Epoch 2/10\n",
      "5156/5156 [==============================] - 2782s 539ms/step - loss: 0.3621 - accuracy: 0.8698 - val_loss: 0.3633 - val_accuracy: 0.8670\n",
      "Epoch 3/10\n",
      "5156/5156 [==============================] - 2753s 534ms/step - loss: 0.3434 - accuracy: 0.8779 - val_loss: 0.4190 - val_accuracy: 0.8550\n",
      "Epoch 4/10\n",
      "5156/5156 [==============================] - 2738s 531ms/step - loss: 0.3355 - accuracy: 0.8808 - val_loss: 0.3861 - val_accuracy: 0.8600\n",
      "Epoch 5/10\n",
      "5156/5156 [==============================] - 2696s 523ms/step - loss: 0.3286 - accuracy: 0.8820 - val_loss: 0.4029 - val_accuracy: 0.8680\n"
     ]
    }
   ],
   "source": [
    "history = resnet_base.fit(traingen,\n",
    "                          validation_data=validgen,\n",
    "                          callbacks=callbacks,\n",
    "                          epochs=10)"
   ]
  },
  {
   "cell_type": "code",
   "execution_count": 9,
   "id": "6e017589",
   "metadata": {},
   "outputs": [
    {
     "name": "stdout",
     "output_type": "stream",
     "text": [
      "968/968 [==============================] - 50s 52ms/step - loss: 0.3306 - accuracy: 0.8492\n"
     ]
    },
    {
     "data": {
      "text/plain": [
       "[0.330596387386322, 0.8491735458374023]"
      ]
     },
     "execution_count": 9,
     "metadata": {},
     "output_type": "execute_result"
    }
   ],
   "source": [
    "resnet_base.evaluate(testgen)"
   ]
  },
  {
   "cell_type": "markdown",
   "id": "e6854a4c",
   "metadata": {},
   "source": [
    "85% before fine tuning. Model fitting stopped after 5th epochs due to not improving 3 epochs in a row. "
   ]
  },
  {
   "cell_type": "code",
   "execution_count": 10,
   "id": "4b4062a2",
   "metadata": {},
   "outputs": [],
   "source": [
    "resnet_base.save(\"../Models/resnet50v2_initial.h5\")"
   ]
  },
  {
   "cell_type": "markdown",
   "id": "f598bac5",
   "metadata": {},
   "source": [
    "### Fine Tuning"
   ]
  },
  {
   "cell_type": "code",
   "execution_count": 11,
   "id": "66eea33f",
   "metadata": {},
   "outputs": [
    {
     "data": {
      "text/plain": [
       "[<keras.engine.input_layer.InputLayer at 0x7faa148c54d0>,\n",
       " <keras.layers.core.tf_op_layer.TFOpLambda at 0x7faa1481d290>,\n",
       " <keras.layers.core.tf_op_layer.TFOpLambda at 0x7faa14822b90>,\n",
       " <keras.engine.functional.Functional at 0x7faa14880410>,\n",
       " <keras.layers.pooling.global_average_pooling2d.GlobalAveragePooling2D at 0x7faa1813c290>,\n",
       " <keras.layers.reshaping.flatten.Flatten at 0x7faa14889390>,\n",
       " <keras.layers.core.dense.Dense at 0x7faa148896d0>]"
      ]
     },
     "execution_count": 11,
     "metadata": {},
     "output_type": "execute_result"
    }
   ],
   "source": [
    "resnet_base.layers"
   ]
  },
  {
   "cell_type": "markdown",
   "id": "addfd951",
   "metadata": {},
   "source": [
    "Train the entire resnetV2 model except for last block."
   ]
  },
  {
   "cell_type": "code",
   "execution_count": 12,
   "id": "6cf4691f",
   "metadata": {},
   "outputs": [
    {
     "name": "stderr",
     "output_type": "stream",
     "text": [
      "/opt/conda/lib/python3.7/site-packages/keras/optimizers/optimizer_v2/adam.py:110: UserWarning: The `lr` argument is deprecated, use `learning_rate` instead.\n",
      "  super(Adam, self).__init__(name, **kwargs)\n"
     ]
    }
   ],
   "source": [
    "# Extract the base model\n",
    "base_model = resnet_base.layers[3]\n",
    "\n",
    "# unfreeze it\n",
    "base_model.trainable = True\n",
    "\n",
    "# select only the last resnet block for retraining\n",
    "# keeping the batchnorm layer unchanged\n",
    "for layer in base_model.layers:\n",
    "  name = layer.name\n",
    "  if name.startswith('conv5_block3') and not isinstance(layer, tf.keras.layers.BatchNormalization):\n",
    "    layer.trainable = True\n",
    "  else:\n",
    "    layer.trainable = False\n",
    "\n",
    "optimizer = tf.keras.optimizers.Adam(lr=1e-3)\n",
    "resnet_base.compile(optimizer=optimizer, \n",
    "                    loss='categorical_crossentropy', \n",
    "                    metrics=metrics)"
   ]
  },
  {
   "cell_type": "code",
   "execution_count": 13,
   "id": "ad93f66f",
   "metadata": {},
   "outputs": [
    {
     "name": "stdout",
     "output_type": "stream",
     "text": [
      "Model: \"model\"\n",
      "_________________________________________________________________\n",
      " Layer (type)                Output Shape              Param #   \n",
      "=================================================================\n",
      " input_2 (InputLayer)        [(None, 224, 224, 3)]     0         \n",
      "                                                                 \n",
      " tf.math.truediv (TFOpLambda  (None, 224, 224, 3)      0         \n",
      " )                                                               \n",
      "                                                                 \n",
      " tf.math.subtract (TFOpLambd  (None, 224, 224, 3)      0         \n",
      " a)                                                              \n",
      "                                                                 \n",
      " resnet50v2 (Functional)     (None, None, None, 2048)  23564800  \n",
      "                                                                 \n",
      " global_average_pooling2d (G  (None, 2048)             0         \n",
      " lobalAveragePooling2D)                                          \n",
      "                                                                 \n",
      " flatten (Flatten)           (None, 2048)              0         \n",
      "                                                                 \n",
      " dense (Dense)               (None, 4)                 8196      \n",
      "                                                                 \n",
      "=================================================================\n",
      "Total params: 23,572,996\n",
      "Trainable params: 4,466,692\n",
      "Non-trainable params: 19,106,304\n",
      "_________________________________________________________________\n"
     ]
    }
   ],
   "source": [
    "resnet_base.summary()"
   ]
  },
  {
   "cell_type": "code",
   "execution_count": 14,
   "id": "2936ce17",
   "metadata": {},
   "outputs": [
    {
     "name": "stdout",
     "output_type": "stream",
     "text": [
      "Epoch 1/10\n",
      "5156/5156 [==============================] - 3102s 601ms/step - loss: 0.3514 - accuracy: 0.8845 - val_loss: 0.3053 - val_accuracy: 0.8930\n",
      "Epoch 2/10\n",
      "5156/5156 [==============================] - 3066s 595ms/step - loss: 0.2488 - accuracy: 0.9148 - val_loss: 0.3660 - val_accuracy: 0.8920\n",
      "Epoch 3/10\n",
      "5156/5156 [==============================] - 3098s 601ms/step - loss: 0.2206 - accuracy: 0.9249 - val_loss: 0.3223 - val_accuracy: 0.8950\n",
      "Epoch 4/10\n",
      "5156/5156 [==============================] - 3143s 610ms/step - loss: 0.1957 - accuracy: 0.9338 - val_loss: 0.3794 - val_accuracy: 0.8790\n"
     ]
    }
   ],
   "source": [
    "callbacks = [tf.keras.callbacks.EarlyStopping(patience=3, monitor='val_loss', )]\n",
    "history = resnet_base.fit(traingen,\n",
    "                          validation_data=validgen,\n",
    "                          callbacks=callbacks,\n",
    "                          epochs=10)"
   ]
  },
  {
   "cell_type": "code",
   "execution_count": 15,
   "id": "affbb7db",
   "metadata": {},
   "outputs": [
    {
     "name": "stdout",
     "output_type": "stream",
     "text": [
      "968/968 [==============================] - 51s 53ms/step - loss: 0.0739 - accuracy: 0.9814\n"
     ]
    },
    {
     "data": {
      "text/plain": [
       "[0.07390180230140686, 0.9814049601554871]"
      ]
     },
     "execution_count": 15,
     "metadata": {},
     "output_type": "execute_result"
    }
   ],
   "source": [
    "resnet_base.evaluate(testgen)"
   ]
  },
  {
   "cell_type": "markdown",
   "id": "5bdd624c",
   "metadata": {},
   "source": [
    "**98%** after fine tuning!"
   ]
  },
  {
   "cell_type": "code",
   "execution_count": 16,
   "id": "d11fa0d9",
   "metadata": {},
   "outputs": [],
   "source": [
    "resnet_base.save(\"../Models/resnet50v2_supervised_finetuned.h5\")"
   ]
  },
  {
   "cell_type": "code",
   "execution_count": 17,
   "id": "864c3fd4",
   "metadata": {},
   "outputs": [
    {
     "data": {
      "image/png": "[encoded data removed]",
      "text/plain": [
       "<Figure size 432x288 with 1 Axes>"
      ]
     },
     "metadata": {
      "needs_background": "light"
     },
     "output_type": "display_data"
    }
   ],
   "source": [
    "plt.plot(history.history['accuracy'])\n",
    "plt.plot(history.history['val_accuracy'])\n",
    "plt.title('ResNetV2 accuracy')\n",
    "plt.ylabel('accuracy')\n",
    "plt.xlabel('epoch')\n",
    "plt.legend(['train', 'val'], loc='upper left')\n",
    "plt.show()"
   ]
  },
  {
   "cell_type": "code",
   "execution_count": 18,
   "id": "eaa73d51",
   "metadata": {},
   "outputs": [
    {
     "data": {
      "image/png": "[encoded data removed]",
      "text/plain": [
       "<Figure size 432x288 with 1 Axes>"
      ]
     },
     "metadata": {
      "needs_background": "light"
     },
     "output_type": "display_data"
    }
   ],
   "source": [
    "plt.plot(history.history['loss'])\n",
    "plt.plot(history.history['val_loss'])\n",
    "plt.title('ResNetV2 Loss')\n",
    "plt.ylabel('loss')\n",
    "plt.xlabel('epoch')\n",
    "plt.legend(['train', 'val'], loc='upper left')\n",
    "plt.show()"
   ]
  },
  {
   "cell_type": "code",
   "execution_count": null,
   "id": "46c1f2be",
   "metadata": {},
   "outputs": [],
   "source": []
  },
  {
   "cell_type": "code",
   "execution_count": null,
   "id": "bd49d396",
   "metadata": {},
   "outputs": [],
   "source": []
  },
  {
   "cell_type": "code",
   "execution_count": null,
   "id": "a6014a26",
   "metadata": {},
   "outputs": [],
   "source": []
  }
 ],
 "metadata": {
  "environment": {
   "kernel": "python3",
   "name": "common-cu113.m93",
   "type": "gcloud",
   "uri": "gcr.io/deeplearning-platform-release/base-cu113:m93"
  },
  "kernelspec": {
   "display_name": "Python 3",
   "language": "python",
   "name": "python3"
  },
  "language_info": {
   "codemirror_mode": {
    "name": "ipython",
    "version": 3
   },
   "file_extension": ".py",
   "mimetype": "text/x-python",
   "name": "python",
   "nbconvert_exporter": "python",
   "pygments_lexer": "ipython3",
   "version": "3.7.12"
  }
 },
 "nbformat": 4,
 "nbformat_minor": 5
}
