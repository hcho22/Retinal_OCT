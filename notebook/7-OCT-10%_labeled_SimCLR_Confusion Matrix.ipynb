{
 "cells": [
  {
   "cell_type": "code",
   "execution_count": 1,
   "id": "7834b8d1",
   "metadata": {},
   "outputs": [
    {
     "name": "stderr",
     "output_type": "stream",
     "text": [
      "2022-08-03 22:57:18.273854: I tensorflow/core/util/util.cc:169] oneDNN custom operations are on. You may see slightly different numerical results due to floating-point round-off errors from different computation orders. To turn them off, set the environment variable `TF_ENABLE_ONEDNN_OPTS=0`.\n"
     ]
    }
   ],
   "source": [
    "import numpy as np\n",
    "import seaborn as sns\n",
    "import matplotlib.pyplot as plt\n",
    "import tensorflow as tf\n",
    "\n",
    "from tensorflow import keras\n",
    "from tensorflow.keras.models import load_model\n",
    "from image_augmentation import RandomColorAffine\n",
    "\n",
    "from sklearn.metrics import confusion_matrix, classification_report"
   ]
  },
  {
   "cell_type": "markdown",
   "id": "1fb32db2",
   "metadata": {},
   "source": [
    "### Confusion Matrix"
   ]
  },
  {
   "cell_type": "code",
   "execution_count": 2,
   "id": "0d7ecd8a",
   "metadata": {},
   "outputs": [
    {
     "name": "stdout",
     "output_type": "stream",
     "text": [
      "WARNING:tensorflow:Using a while_loop for converting RngReadAndSkip\n",
      "WARNING:tensorflow:Using a while_loop for converting Bitcast\n"
     ]
    },
    {
     "name": "stderr",
     "output_type": "stream",
     "text": [
      "2022-08-03 22:57:23.255263: E tensorflow/stream_executor/cuda/cuda_driver.cc:271] failed call to cuInit: CUDA_ERROR_NO_DEVICE: no CUDA-capable device is detected\n",
      "2022-08-03 22:57:23.255298: I tensorflow/stream_executor/cuda/cuda_diagnostics.cc:156] kernel driver does not appear to be running on this host (ip-172-31-3-32): /proc/driver/nvidia/version does not exist\n",
      "2022-08-03 22:57:23.255679: I tensorflow/core/platform/cpu_feature_guard.cc:193] This TensorFlow binary is optimized with oneAPI Deep Neural Network Library (oneDNN) to use the following CPU instructions in performance-critical operations:  AVX2 AVX512F AVX512_VNNI FMA\n",
      "To enable them in other operations, rebuild TensorFlow with the appropriate compiler flags.\n"
     ]
    },
    {
     "name": "stdout",
     "output_type": "stream",
     "text": [
      "WARNING:tensorflow:Using a while_loop for converting Bitcast\n",
      "WARNING:tensorflow:Using a while_loop for converting StatelessRandomUniformV2\n",
      "WARNING:tensorflow:Using a while_loop for converting RngReadAndSkip\n",
      "WARNING:tensorflow:Using a while_loop for converting Bitcast\n",
      "WARNING:tensorflow:Using a while_loop for converting Bitcast\n",
      "WARNING:tensorflow:Using a while_loop for converting StatelessRandomUniformV2\n",
      "WARNING:tensorflow:Using a while_loop for converting ImageProjectiveTransformV3\n",
      "WARNING:tensorflow:Using a while_loop for converting RngReadAndSkip\n",
      "WARNING:tensorflow:Using a while_loop for converting Bitcast\n",
      "WARNING:tensorflow:Using a while_loop for converting Bitcast\n",
      "WARNING:tensorflow:Using a while_loop for converting StatelessRandomUniformV2\n",
      "WARNING:tensorflow:Using a while_loop for converting RngReadAndSkip\n",
      "WARNING:tensorflow:Using a while_loop for converting Bitcast\n",
      "WARNING:tensorflow:Using a while_loop for converting Bitcast\n",
      "WARNING:tensorflow:Using a while_loop for converting StatelessRandomUniformV2\n",
      "WARNING:tensorflow:Using a while_loop for converting ImageProjectiveTransformV3\n"
     ]
    }
   ],
   "source": [
    "# Load best model\n",
    "model = load_model(\"../Models/10%_simclr_semi_supervised_model_bs64.33-0.27.h5\",custom_objects={'RandomColorAffine': RandomColorAffine})"
   ]
  },
  {
   "cell_type": "code",
   "execution_count": 3,
   "id": "0538c52a",
   "metadata": {},
   "outputs": [
    {
     "name": "stdout",
     "output_type": "stream",
     "text": [
      "Found 968 files belonging to 4 classes.\n"
     ]
    }
   ],
   "source": [
    "#generate test batch\n",
    "test_path = \"../Data/OCT2017 /test/\"\n",
    "image_size = 224\n",
    "seed = 42\n",
    "\n",
    "test_batch = tf.keras.utils.image_dataset_from_directory(test_path,\n",
    "                                                         image_size=(image_size, image_size),\n",
    "                                                         shuffle=False,\n",
    "                                                         batch_size = 64,\n",
    "                                                         seed=seed,)"
   ]
  },
  {
   "cell_type": "code",
   "execution_count": 5,
   "id": "e11959a2",
   "metadata": {},
   "outputs": [
    {
     "name": "stdout",
     "output_type": "stream",
     "text": [
      "16/16 [==============================] - 7s 459ms/step\n",
      "There were 940 correct predictions in 968 tests for an accuracy of  97.11 % \n"
     ]
    },
    {
     "data": {
      "image/png": "[encoded data removed]",
      "text/plain": [
       "<Figure size 576x576 with 1 Axes>"
      ]
     },
     "metadata": {},
     "output_type": "display_data"
    },
    {
     "name": "stdout",
     "output_type": "stream",
     "text": [
      "Classification Report:\n",
      "----------------------\n",
      "               precision    recall  f1-score   support\n",
      "\n",
      "         CNV       0.93      1.00      0.96       242\n",
      "         DME       1.00      0.94      0.97       242\n",
      "      DRUSEN       0.98      0.97      0.97       242\n",
      "     NORMARL       0.98      0.98      0.98       242\n",
      "\n",
      "    accuracy                           0.97       968\n",
      "   macro avg       0.97      0.97      0.97       968\n",
      "weighted avg       0.97      0.97      0.97       968\n",
      "\n"
     ]
    }
   ],
   "source": [
    "#Print Confusion Matrix and Classification Report\n",
    "class_names = ['CNV','DME','DRUSEN','NORMARL']\n",
    "\n",
    "sns.set_style('darkgrid')\n",
    "classes=test_batch.class_names # ordered list of class names\n",
    "\n",
    "ytrue=[]\n",
    "\n",
    "for images, label in test_batch:   \n",
    "    for l in label:\n",
    "        ytrue.append(classes[l]) # list of class names associated with each image file in test dataset \n",
    "        \n",
    "ypred=[]\n",
    "errors=0\n",
    "count=0\n",
    "preds=model.predict(test_batch, verbose=1) # predict the model on the test batch\n",
    "\n",
    "for i, p in enumerate(preds):\n",
    "    count +=1\n",
    "    index=np.argmax(p) # get index of prediction with highest probability\n",
    "    klass=classes[index] \n",
    "    ypred.append(klass)  \n",
    "    if klass != ytrue[i]:\n",
    "        errors +=1\n",
    "acc= (count-errors)* 100/count\n",
    "msg=f'There were {count-errors} correct predictions in {count} tests for an accuracy of {acc:6.2f} % '\n",
    "print(msg) \n",
    "\n",
    "y_pred=np.array(ypred)\n",
    "y_true=np.array(ytrue)\n",
    "\n",
    "if len(classes)<= 30: # Can create up to 30 classes\n",
    "        # create a confusion matrix \n",
    "        cm = confusion_matrix(y_true, y_pred )        \n",
    "        length=len(classes)\n",
    "        if length<8:\n",
    "            fig_width=8\n",
    "            fig_height=8\n",
    "        else:\n",
    "            fig_width= int(length * .5)\n",
    "            fig_height= int(length * .5)\n",
    "        plt.figure(figsize=(fig_width, fig_height))\n",
    "        sns.heatmap(cm, annot=True, vmin=0, fmt='g', cmap='Blues', cbar=False)       \n",
    "        plt.xticks(np.arange(length)+.5, classes, rotation= 90)\n",
    "        plt.yticks(np.arange(length)+.5, classes, rotation=0)\n",
    "        plt.xlabel(\"Predicted\")\n",
    "        plt.ylabel(\"Actual\")\n",
    "        plt.title(\"Confusion Matrix\")\n",
    "        plt.show()\n",
    "clr = classification_report(ytrue, ypred, target_names=class_names)\n",
    "print(\"Classification Report:\\n----------------------\\n\", clr) "
   ]
  }
 ],
 "metadata": {
  "environment": {
   "kernel": "python3",
   "name": "common-cu113.m93",
   "type": "gcloud",
   "uri": "gcr.io/deeplearning-platform-release/base-cu113:m93"
  },
  "kernelspec": {
   "display_name": "Python 3.9.2 ('4thbrain')",
   "language": "python",
   "name": "python3"
  },
  "language_info": {
   "codemirror_mode": {
    "name": "ipython",
    "version": 3
   },
   "file_extension": ".py",
   "mimetype": "text/x-python",
   "name": "python",
   "nbconvert_exporter": "python",
   "pygments_lexer": "ipython3",
   "version": "3.9.2"
  },
  "vscode": {
   "interpreter": {
    "hash": "48d1f4dea415a44f7bef8e99cf25341b56b2357a0b6f569b2b54c5a9a495788c"
   }
  }
 },
 "nbformat": 4,
 "nbformat_minor": 5
}
